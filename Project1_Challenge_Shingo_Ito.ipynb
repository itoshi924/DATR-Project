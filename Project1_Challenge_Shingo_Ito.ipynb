{
 "cells": [
  {
   "cell_type": "markdown",
   "id": "9956220d",
   "metadata": {},
   "source": [
    "# Challenge 1: Largest Palindrome¶"
   ]
  },
  {
   "cell_type": "markdown",
   "id": "9b8bc02f",
   "metadata": {},
   "source": [
    "A palindromic number reads the same both ways. For example, 1234321 is a palindrome. The largest palindrome made from the product of two two-digit numbers is 9009 = 91 × 99. Find the largest palindrome made from the product of two three-digit numbers. Afterward, write a brief explanation walking through your code's logic in markdown."
   ]
  },
  {
   "cell_type": "code",
   "execution_count": 1,
   "id": "765dd037",
   "metadata": {},
   "outputs": [],
   "source": [
    "def is_palindrome(a):\n",
    "    a=str(a) #convert the integer to string\n",
    "    return a==a[::-1] #test if a is palindrome (i.e. a reads the same as a's reverse)\n",
    "\n",
    "\n",
    "def LargestPalindrome():\n",
    "    largest_palindrome = 0\n",
    "    for i in range(100,1000): #capture all three digit numbers\n",
    "        for j in range(100,1000): #capture all three digit numbers\n",
    "            if is_palindrome(i*j): #product of all three digit numbers\n",
    "                #take max of largest and current product\n",
    "                largest_palindrome = max(largest_palindrome,i*j)\n",
    "    return largest_palindrome"
   ]
  },
  {
   "cell_type": "code",
   "execution_count": 3,
   "id": "733a8cfb",
   "metadata": {},
   "outputs": [
    {
     "data": {
      "text/plain": [
       "906609"
      ]
     },
     "execution_count": 3,
     "metadata": {},
     "output_type": "execute_result"
    }
   ],
   "source": [
    "LargestPalindrome()"
   ]
  },
  {
   "cell_type": "markdown",
   "id": "380066a3",
   "metadata": {},
   "source": [
    "# Challenge 2: Summation of Primes"
   ]
  },
  {
   "cell_type": "markdown",
   "id": "14e0ca81",
   "metadata": {},
   "source": [
    "The sum of the primes below 10 is 2 + 3 + 5 + 7 = 17. Find the sum of all the primes below 2,000. Afterward, write a brief explanation walking through your code's logic in markdown."
   ]
  },
  {
   "cell_type": "code",
   "execution_count": 4,
   "id": "4a165e11",
   "metadata": {},
   "outputs": [
    {
     "name": "stdout",
     "output_type": "stream",
     "text": [
      "277050\n"
     ]
    }
   ],
   "source": [
    "\n",
    "def isPrime(a): #test if a is prime number\n",
    "    if a < 2: return \"Not a prime\"\n",
    "    for i in range(2, int(a**0.5) + 1):\n",
    "        if a % i == 0:\n",
    "            return False\n",
    "    return True\n",
    "\n",
    "sum = 0 \n",
    "for i in range(2, 2000): # Find the sum of all the primes below 2,000.\n",
    "    if isPrime(i): # capture all the primes below 2,000.\n",
    "        sum += i # sum up all the primes below 2,000.\n",
    "\n",
    "print (sum)"
   ]
  },
  {
   "cell_type": "code",
   "execution_count": null,
   "id": "d8a30b29",
   "metadata": {},
   "outputs": [],
   "source": []
  },
  {
   "cell_type": "markdown",
   "id": "65492c34",
   "metadata": {},
   "source": [
    "# Challenge 3: Multiples of 3 and 5¶"
   ]
  },
  {
   "cell_type": "markdown",
   "id": "98bd269f",
   "metadata": {},
   "source": [
    "If we list all of the natural numbers below 10 that are multiples of 3 or 5, we get 3, 5, 6, and 9. The sum of these multiples is 23. Find the sum of all the multiples of 3 and 5 below 1,000. Afterward, write a brief explanation walking through your code's logic in markdown."
   ]
  },
  {
   "cell_type": "code",
   "execution_count": 6,
   "id": "08c06b4c",
   "metadata": {},
   "outputs": [
    {
     "name": "stdout",
     "output_type": "stream",
     "text": [
      "233168\n"
     ]
    }
   ],
   "source": [
    "total = 0\n",
    "for a in range(1000):\n",
    "    if a % 3 == 0 or a % 5 == 0:\n",
    "        total += a\n",
    "print(total)"
   ]
  },
  {
   "cell_type": "code",
   "execution_count": null,
   "id": "1846b699",
   "metadata": {},
   "outputs": [],
   "source": []
  },
  {
   "cell_type": "markdown",
   "id": "9ef9c6bf",
   "metadata": {},
   "source": [
    "# Challenge 4: String Compressor¶"
   ]
  },
  {
   "cell_type": "markdown",
   "id": "ada2f145",
   "metadata": {},
   "source": [
    "Implement a method to perform basic string compression using the counts of repeated characters. (This is called run-length encoding.) For example, the string \"aabcccccaaa\" would become a2b1c5a3. If the “compressed” string would not become smaller than the original string, your method should return the original string. You can assume the string has only uppercase and lowercase letters (a–z). Specify whether your solution is case sensitive or case insensitive and what you would need to change to make it the other. Afterward, write a brief explanation walking through your code's logic in markdown."
   ]
  },
  {
   "cell_type": "code",
   "execution_count": 10,
   "id": "51cde714",
   "metadata": {},
   "outputs": [],
   "source": [
    "def compress_string(a):\n",
    "    count = 1\n",
    "    output_string = \"\"\n",
    "    for position, character in enumerate(a): # Check to see if it is the same letter\n",
    "        if position + 1 < len(a) and character == a[position + 1]: # Add a count if same as previous\n",
    "            count += 1\n",
    "        else: # Otherwise store the previous data\n",
    "            output_chars = character + str(count)\n",
    "            output_string = output_string + output_chars\n",
    "            count = 1\n",
    "    if len(output_string) < len(a): #If the “compressed” string would not become smaller than the original string, return the original string.\n",
    "        return output_string\n",
    "    else:\n",
    "        return a"
   ]
  },
  {
   "cell_type": "code",
   "execution_count": 11,
   "id": "bd0c24bc",
   "metadata": {},
   "outputs": [
    {
     "data": {
      "text/plain": [
       "'a2b1c5a3'"
      ]
     },
     "execution_count": 11,
     "metadata": {},
     "output_type": "execute_result"
    }
   ],
   "source": [
    "compress_string(\"aabcccccaaa\")"
   ]
  },
  {
   "cell_type": "markdown",
   "id": "c535f880",
   "metadata": {},
   "source": [
    "# BONUS Challenge: FizzBuzz"
   ]
  },
  {
   "cell_type": "markdown",
   "id": "4f14f290",
   "metadata": {},
   "source": [
    "Write a program that prints all of the numbers from 1 to 100. For multiples of 3, instead of the number, print \"Fizz;\" for multiples of 5, print \"Buzz.\" For numbers that are multiples of both 3 and 5, print \"FizzBuzz.\" Afterward, write a brief explanation walking through your code's logic in markdown."
   ]
  },
  {
   "cell_type": "code",
   "execution_count": 12,
   "id": "f12d1042",
   "metadata": {},
   "outputs": [
    {
     "name": "stdout",
     "output_type": "stream",
     "text": [
      "1\n",
      "2\n",
      "Fizz\n",
      "4\n",
      "Buzz\n",
      "Fizz\n",
      "7\n",
      "8\n",
      "Fizz\n",
      "Buzz\n",
      "11\n",
      "Fizz\n",
      "13\n",
      "14\n",
      "FizzBuzz\n",
      "16\n",
      "17\n",
      "Fizz\n",
      "19\n",
      "Buzz\n",
      "Fizz\n",
      "22\n",
      "23\n",
      "Fizz\n",
      "Buzz\n",
      "26\n",
      "Fizz\n",
      "28\n",
      "29\n",
      "FizzBuzz\n",
      "31\n",
      "32\n",
      "Fizz\n",
      "34\n",
      "Buzz\n",
      "Fizz\n",
      "37\n",
      "38\n",
      "Fizz\n",
      "Buzz\n",
      "41\n",
      "Fizz\n",
      "43\n",
      "44\n",
      "FizzBuzz\n",
      "46\n",
      "47\n",
      "Fizz\n",
      "49\n",
      "Buzz\n",
      "Fizz\n",
      "52\n",
      "53\n",
      "Fizz\n",
      "Buzz\n",
      "56\n",
      "Fizz\n",
      "58\n",
      "59\n",
      "FizzBuzz\n",
      "61\n",
      "62\n",
      "Fizz\n",
      "64\n",
      "Buzz\n",
      "Fizz\n",
      "67\n",
      "68\n",
      "Fizz\n",
      "Buzz\n",
      "71\n",
      "Fizz\n",
      "73\n",
      "74\n",
      "FizzBuzz\n",
      "76\n",
      "77\n",
      "Fizz\n",
      "79\n",
      "Buzz\n",
      "Fizz\n",
      "82\n",
      "83\n",
      "Fizz\n",
      "Buzz\n",
      "86\n",
      "Fizz\n",
      "88\n",
      "89\n",
      "FizzBuzz\n",
      "91\n",
      "92\n",
      "Fizz\n",
      "94\n",
      "Buzz\n",
      "Fizz\n",
      "97\n",
      "98\n",
      "Fizz\n"
     ]
    }
   ],
   "source": [
    "\n",
    "for i in range(1,100): # Loop for 100 times\n",
    "    \n",
    "    if i % 15 == 0: # Number divisible by 3 and 5, print 'FizzBuzz'\n",
    "        print(\"FizzBuzz\")                                        \n",
    "        continue\n",
    " \n",
    "    elif i % 3 == 0: # print 'Fizz' if Number divisible by 3\n",
    "        print(\"Fizz\")                                        \n",
    "        continue\n",
    " \n",
    "    elif i % 5 == 0: # print 'Buzz' if Number divisible by 5  \n",
    "        print(\"Buzz\")                                    \n",
    "        continue\n",
    " \n",
    "    print(i) # Print numbers"
   ]
  },
  {
   "cell_type": "code",
   "execution_count": null,
   "id": "afc0268d",
   "metadata": {},
   "outputs": [],
   "source": []
  }
 ],
 "metadata": {
  "kernelspec": {
   "display_name": "Python 3",
   "language": "python",
   "name": "python3"
  },
  "language_info": {
   "codemirror_mode": {
    "name": "ipython",
    "version": 3
   },
   "file_extension": ".py",
   "mimetype": "text/x-python",
   "name": "python",
   "nbconvert_exporter": "python",
   "pygments_lexer": "ipython3",
   "version": "3.8.8"
  }
 },
 "nbformat": 4,
 "nbformat_minor": 5
}
